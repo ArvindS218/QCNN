{
 "cells": [
  {
   "cell_type": "markdown",
   "id": "a4b0e7b3-1ba5-4ab5-954e-fbb5cb37ee3f",
   "metadata": {
    "tags": []
   },
   "source": [
    "# QNN: Quantum Neural Network Overview\n",
    "\n",
    "This code outlines a basic implementation of a Quantum Neural Network. Much like in a classical system, quantum systems operate using nodes and weights "
   ]
  },
  {
   "cell_type": "code",
   "execution_count": 2,
   "id": "c0a6b014-a687-4e9d-a408-ac7454042887",
   "metadata": {
    "tags": []
   },
   "outputs": [
    {
     "name": "stderr",
     "output_type": "stream",
     "text": [
      "qiskit_runtime_service.__init__:INFO:2024-04-15 22:41:53,196: Default instance: ibm-q-education/uni-pittsburgh-1/phys-1470\n"
     ]
    }
   ],
   "source": [
    "# Importing standard Qiskit libraries\n",
    "from qiskit import QuantumCircuit, transpile\n",
    "from qiskit_aer import Aer\n",
    "from qiskit.quantum_info import Statevector\n",
    "from qiskit.visualization import *\n",
    "from ibm_quantum_widgets import *\n",
    "\n",
    "# qiskit-ibmq-provider has been deprecated.\n",
    "# Please see the Migration Guides in https://ibm.biz/provider_migration_guide for more detail.\n",
    "from qiskit_ibm_runtime import QiskitRuntimeService, Sampler, Estimator, Session, Options\n",
    "\n",
    "# Loading your IBM Quantum account(s)\n",
    "service = QiskitRuntimeService(channel=\"ibm_quantum\")\n",
    "\n",
    "# Invoke a primitive. For more details see https://docs.quantum.ibm.com/run/primitives\n",
    "# result = Sampler().run(circuits).result()"
   ]
  },
  {
   "cell_type": "code",
   "execution_count": 4,
   "id": "7c283637-9695-4ba5-a2da-0e91206dc8f6",
   "metadata": {
    "tags": []
   },
   "outputs": [
    {
     "name": "stdout",
     "output_type": "stream",
     "text": [
      "Requirement already satisfied: qiskit-machine-learning in /opt/conda/lib/python3.10/site-packages (0.7.2)\n",
      "Requirement already satisfied: qiskit>=0.44 in /opt/conda/lib/python3.10/site-packages (from qiskit-machine-learning) (1.0.2)\n",
      "Requirement already satisfied: qiskit-algorithms>=0.2.0 in /opt/conda/lib/python3.10/site-packages (from qiskit-machine-learning) (0.3.0)\n",
      "Requirement already satisfied: scipy>=1.4 in /opt/conda/lib/python3.10/site-packages (from qiskit-machine-learning) (1.12.0)\n",
      "Requirement already satisfied: numpy>=1.17 in /opt/conda/lib/python3.10/site-packages (from qiskit-machine-learning) (1.23.5)\n",
      "Requirement already satisfied: psutil>=5 in /opt/conda/lib/python3.10/site-packages (from qiskit-machine-learning) (5.9.4)\n",
      "Requirement already satisfied: scikit-learn>=1.2.0 in /opt/conda/lib/python3.10/site-packages (from qiskit-machine-learning) (1.4.1.post1)\n",
      "Requirement already satisfied: fastdtw in /opt/conda/lib/python3.10/site-packages (from qiskit-machine-learning) (0.3.4)\n",
      "Requirement already satisfied: setuptools>=40.1.0 in /opt/conda/lib/python3.10/site-packages (from qiskit-machine-learning) (65.5.1)\n",
      "Requirement already satisfied: dill>=0.3.4 in /opt/conda/lib/python3.10/site-packages (from qiskit-machine-learning) (0.3.6)\n",
      "Requirement already satisfied: rustworkx>=0.14.0 in /opt/conda/lib/python3.10/site-packages (from qiskit>=0.44->qiskit-machine-learning) (0.14.0)\n",
      "Requirement already satisfied: sympy>=1.3 in /opt/conda/lib/python3.10/site-packages (from qiskit>=0.44->qiskit-machine-learning) (1.11.1)\n",
      "Requirement already satisfied: python-dateutil>=2.8.0 in /opt/conda/lib/python3.10/site-packages (from qiskit>=0.44->qiskit-machine-learning) (2.8.2)\n",
      "Requirement already satisfied: stevedore>=3.0.0 in /opt/conda/lib/python3.10/site-packages (from qiskit>=0.44->qiskit-machine-learning) (5.1.0)\n",
      "Requirement already satisfied: typing-extensions in /opt/conda/lib/python3.10/site-packages (from qiskit>=0.44->qiskit-machine-learning) (4.9.0)\n",
      "Requirement already satisfied: symengine>=0.11 in /opt/conda/lib/python3.10/site-packages (from qiskit>=0.44->qiskit-machine-learning) (0.11.0)\n",
      "Requirement already satisfied: joblib>=1.2.0 in /opt/conda/lib/python3.10/site-packages (from scikit-learn>=1.2.0->qiskit-machine-learning) (1.2.0)\n",
      "Requirement already satisfied: threadpoolctl>=2.0.0 in /opt/conda/lib/python3.10/site-packages (from scikit-learn>=1.2.0->qiskit-machine-learning) (3.1.0)\n",
      "Requirement already satisfied: six>=1.5 in /opt/conda/lib/python3.10/site-packages (from python-dateutil>=2.8.0->qiskit>=0.44->qiskit-machine-learning) (1.16.0)\n",
      "Requirement already satisfied: pbr!=2.1.0,>=2.0.0 in /opt/conda/lib/python3.10/site-packages (from stevedore>=3.0.0->qiskit>=0.44->qiskit-machine-learning) (6.0.0)\n",
      "Requirement already satisfied: mpmath>=0.19 in /opt/conda/lib/python3.10/site-packages (from sympy>=1.3->qiskit>=0.44->qiskit-machine-learning) (1.2.1)\n"
     ]
    }
   ],
   "source": [
    "!pip install qiskit-machine-learning #This installs the basic recursive algorthim need in a neural network and without it, the function will not work"
   ]
  },
  {
   "cell_type": "code",
   "execution_count": 5,
   "id": "ac4dfdee-03a4-47d3-8c21-c7ff6f341b69",
   "metadata": {
    "tags": []
   },
   "outputs": [],
   "source": [
    "from qiskit_algorithms.utils import algorithm_globals\n",
    "\n",
    "algorithm_globals.random_seed = 42"
   ]
  },
  {
   "cell_type": "markdown",
   "id": "693f39cb-b204-4137-8bea-d83a86ba07ae",
   "metadata": {},
   "source": [
    "## Neural Network Circuts \n",
    "\n",
    "By preparing data and using a paramertized circut, you can create the basic algoritm of a Neural Network with data being passed from one layer onto another(from node to weight)."
   ]
  },
  {
   "cell_type": "code",
   "execution_count": 6,
   "id": "abf8a553-13ea-4577-87bf-94497a63aa97",
   "metadata": {
    "tags": []
   },
   "outputs": [
    {
     "data": {
      "image/png": "[encoded data removed]",
      "text/plain": [
       "<Figure size 352.675x117.056 with 1 Axes>"
      ]
     },
     "execution_count": 6,
     "metadata": {},
     "output_type": "execute_result"
    }
   ],
   "source": [
    "from qiskit.circuit import Parameter\n",
    "from qiskit import QuantumCircuit\n",
    "\n",
    "params1 = [Parameter(\"input1\"), Parameter(\"weight1\")]\n",
    "qc1 = QuantumCircuit(1)\n",
    "qc1.h(0)\n",
    "qc1.ry(params1[0], 0)\n",
    "qc1.rx(params1[1], 0)\n",
    "qc1.draw(\"mpl\", style=\"clifford\")"
   ]
  },
  {
   "cell_type": "code",
   "execution_count": 12,
   "id": "52c898e7-526f-4976-b121-28d88e532082",
   "metadata": {
    "tags": []
   },
   "outputs": [],
   "source": [
    "from qiskit.quantum_info import SparsePauliOp\n",
    "\n",
    "observable1 = SparsePauliOp.from_list([(\"Y\" * qc1.num_qubits, 1)])"
   ]
  },
  {
   "cell_type": "code",
   "execution_count": 7,
   "id": "fbb9cc18-2b77-4fb1-8105-da208e2cb2a3",
   "metadata": {
    "tags": []
   },
   "outputs": [],
   "source": [
    "from qiskit.quantum_info import SparsePauliOp\n",
    "\n",
    "observable1 = SparsePauliOp.from_list([(\"Y\" * qc1.num_qubits, 1)])"
   ]
  },
  {
   "cell_type": "markdown",
   "id": "bcb3d36c-2b89-4107-b046-9bfb3c56e5ee",
   "metadata": {},
   "source": [
    "Importing the EstimatorQNN and vizualizing its circuts to show its implementaion:"
   ]
  },
  {
   "cell_type": "code",
   "execution_count": 9,
   "id": "bae73566-6d6e-47d2-8880-cb2c84c832fa",
   "metadata": {
    "tags": []
   },
   "outputs": [
    {
     "data": {
      "text/plain": [
       "<qiskit_machine_learning.neural_networks.estimator_qnn.EstimatorQNN at 0x7fba200c3400>"
      ]
     },
     "execution_count": 9,
     "metadata": {},
     "output_type": "execute_result"
    }
   ],
   "source": [
    "from qiskit_machine_learning.neural_networks import EstimatorQNN # This is just one type of quantum Neurtal Network and there are others that exist depending on the type of data used\n",
    "\n",
    "estimator_qnn = EstimatorQNN(\n",
    "    circuit=qc1, observables=observable1, input_params=[params1[0]], weight_params=[params1[1]]\n",
    ")\n",
    "estimator_qnn"
   ]
  },
  {
   "cell_type": "markdown",
   "id": "bcc516f2-e247-401e-a0aa-5bc282fe7ab8",
   "metadata": {},
   "source": [
    "Much like the circut shown above, this circut uses input data that is prepared in some state and is sent through parameterized weights. This insirtance is a bit more complicated, however it functions on the same guiding principles."
   ]
  },
  {
   "cell_type": "code",
   "execution_count": 11,
   "id": "afc11695-8e24-4e16-aeab-08524743865d",
   "metadata": {
    "tags": []
   },
   "outputs": [
    {
     "name": "stdout",
     "output_type": "stream",
     "text": [
      "input parameters: ['input[0]', 'input[1]']\n",
      "weight parameters: ['weight[0]', 'weight[1]', 'weight[2]', 'weight[3]']\n"
     ]
    },
    {
     "data": {
      "image/png": "[encoded data removed]",
      "text/plain": [
       "<Figure size 538.128x200.667 with 1 Axes>"
      ]
     },
     "execution_count": 11,
     "metadata": {},
     "output_type": "execute_result"
    }
   ],
   "source": [
    "from qiskit.circuit import ParameterVector\n",
    "\n",
    "inputs2 = ParameterVector(\"input\", 2)\n",
    "weights2 = ParameterVector(\"weight\", 4)\n",
    "print(f\"input parameters: {[str(item) for item in inputs2.params]}\")\n",
    "print(f\"weight parameters: {[str(item) for item in weights2.params]}\")\n",
    "\n",
    "qc2 = QuantumCircuit(2)\n",
    "qc2.ry(inputs2[0], 0)\n",
    "qc2.ry(inputs2[1], 1)\n",
    "qc2.cx(0, 1)\n",
    "qc2.ry(weights2[0], 0)\n",
    "qc2.ry(weights2[1], 1)\n",
    "qc2.cx(0, 1)\n",
    "qc2.ry(weights2[2], 0)\n",
    "qc2.ry(weights2[3], 1)\n",
    "\n",
    "qc2.draw(\"mpl\", style=\"clifford\")"
   ]
  },
  {
   "cell_type": "code",
   "execution_count": 17,
   "id": "5ece6cf7-94d2-41ff-9895-c0b9a00798b4",
   "metadata": {
    "tags": []
   },
   "outputs": [
    {
     "data": {
      "text/plain": [
       "<qiskit_machine_learning.neural_networks.sampler_qnn.SamplerQNN at 0x7fba177b0250>"
      ]
     },
     "execution_count": 17,
     "metadata": {},
     "output_type": "execute_result"
    }
   ],
   "source": [
    "from qiskit_machine_learning.neural_networks import SamplerQNN## Another type of QNN however this is can used for more dynamic data that is not linerarly serperable\n",
    "\n",
    "sampler_qnn = SamplerQNN(circuit=qc2, input_params=inputs2, weight_params=weights2)\n",
    "sampler_qnn"
   ]
  },
  {
   "cell_type": "markdown",
   "id": "f034ccfe-a21d-42d9-864f-26768949dc64",
   "metadata": {},
   "source": [
    "## Attributes\n",
    "\n",
    "Here what is shows is the attributes of the Sampler QNN above such as the nodes(inputs) and the trainable weights(parametrized gates)."
   ]
  },
  {
   "cell_type": "code",
   "execution_count": 14,
   "id": "0cfa0781-8dc4-44b7-a799-13912adf78be",
   "metadata": {
    "tags": []
   },
   "outputs": [
    {
     "name": "stdout",
     "output_type": "stream",
     "text": [
      "Number of input features for SamplerQNN: 2 \n",
      "Input: [0.77395605 0.43887844]\n",
      "Number of trainable weights for SamplerQNN: 4 \n",
      "Weights: [0.85859792 0.69736803 0.09417735 0.97562235]\n"
     ]
    }
   ],
   "source": [
    "sampler_qnn_input = algorithm_globals.random.random(sampler_qnn.num_inputs)\n",
    "sampler_qnn_weights = algorithm_globals.random.random(sampler_qnn.num_weights)\n",
    "\n",
    "print(\n",
    "    f\"Number of input features for SamplerQNN: {sampler_qnn.num_inputs} \\nInput: {sampler_qnn_input}\"\n",
    ")\n",
    "print(\n",
    "    f\"Number of trainable weights for SamplerQNN: {sampler_qnn.num_weights} \\nWeights: {sampler_qnn_weights}\"\n",
    ")"
   ]
  },
  {
   "cell_type": "markdown",
   "id": "8dfa4d49-3db7-4b23-a202-177a45fb9610",
   "metadata": {},
   "source": [
    "## Foward Passes\n",
    "\n",
    "A foward pass is the movement of data from one layer of a Neural Network to another. This eventually pushs the output from the nodes of the network as some final output used for optimization or some other function."
   ]
  },
  {
   "cell_type": "code",
   "execution_count": 18,
   "id": "a4220072-8b59-4a19-9edd-7fa500930ee4",
   "metadata": {
    "tags": []
   },
   "outputs": [
    {
     "name": "stdout",
     "output_type": "stream",
     "text": [
      "Forward pass result for SamplerQNN: [[0.23851185 0.1411135  0.3367757  0.28359895]].  \n",
      "Shape: (1, 4)\n"
     ]
    }
   ],
   "source": [
    "sampler_qnn_forward = sampler_qnn.forward(sampler_qnn_input, sampler_qnn_weights)\n",
    "\n",
    "print(\n",
    "    f\"Forward pass result for SamplerQNN: {sampler_qnn_forward}.  \\nShape: {sampler_qnn_forward.shape}\"\n",
    ")"
   ]
  },
  {
   "cell_type": "code",
   "execution_count": 19,
   "id": "90a469a2-2ed9-4b98-8313-5860ee0db8f6",
   "metadata": {
    "tags": []
   },
   "outputs": [
    {
     "name": "stdout",
     "output_type": "stream",
     "text": [
      "Input gradients for SamplerQNN: None.  \n",
      "Shape: None\n",
      "Weight gradients for SamplerQNN: [[[ 0.00609879 -0.30661818 -0.1834591  -0.28341665]\n",
      "  [-0.02969169  0.17866236  0.1834591  -0.20004909]\n",
      "  [-0.37812738  0.30266095 -0.30904568  0.28341665]\n",
      "  [ 0.40172028 -0.17470512  0.30904568  0.20004909]]].  \n",
      "Shape: (1, 4, 4)\n"
     ]
    }
   ],
   "source": [
    "sampler_qnn_input_grad, sampler_qnn_weight_grad = sampler_qnn.backward(\n",
    "    sampler_qnn_input, sampler_qnn_weights\n",
    ")\n",
    "\n",
    "print(\n",
    "    f\"Input gradients for SamplerQNN: {sampler_qnn_input_grad}.  \\nShape: {sampler_qnn_input_grad}\"\n",
    ")\n",
    "print(\n",
    "    f\"Weight gradients for SamplerQNN: {sampler_qnn_weight_grad}.  \\nShape: {sampler_qnn_weight_grad.shape}\"\n",
    ")"
   ]
  },
  {
   "cell_type": "code",
   "execution_count": null,
   "id": "8e9a7e4c-9e6c-42ce-b3f4-174e13d97ef0",
   "metadata": {},
   "outputs": [],
   "source": []
  }
 ],
 "metadata": {
  "kernelspec": {
   "display_name": "Qiskit v1.0.2 (ipykernel)",
   "language": "python",
   "name": "python3"
  },
  "language_info": {
   "codemirror_mode": {
    "name": "ipython",
    "version": 3
   },
   "file_extension": ".py",
   "mimetype": "text/x-python",
   "name": "python",
   "nbconvert_exporter": "python",
   "pygments_lexer": "ipython3",
   "version": "3.10.8"
  },
  "widgets": {
   "application/vnd.jupyter.widget-state+json": {
    "state": {},
    "version_major": 2,
    "version_minor": 0
   }
  }
 },
 "nbformat": 4,
 "nbformat_minor": 5
}
