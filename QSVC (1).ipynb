{
 "cells": [
  {
   "cell_type": "markdown",
   "id": "aa017f7a-1048-456a-b8e7-2bab062251a9",
   "metadata": {
    "tags": []
   },
   "source": [
    "# Quantum System: QSVM\n",
    "\n",
    "This code outlines the implementation of a QSVM which is used to classify data speccifalcy classify linerally seperable data"
   ]
  },
  {
   "cell_type": "code",
   "execution_count": 2,
   "id": "6c3958b9-b607-4ca5-aad8-f99bbfef7d0a",
   "metadata": {
    "tags": []
   },
   "outputs": [],
   "source": [
    "#importing standard libraries for SVM classification\n",
    "import matplotlib.pyplot as plt\n",
    "import numpy as np\n",
    "from IPython.display import clear_output\n",
    "from qiskit import QuantumCircuit\n",
    "from qiskit.circuit import Parameter\n",
    "from qiskit.circuit.library import RealAmplitudes, ZZFeatureMap\n",
    "from qiskit_algorithms.optimizers import COBYLA, L_BFGS_B\n",
    "from qiskit_algorithms.utils import algorithm_globals\n",
    "\n",
    "from qiskit_machine_learning.algorithms.classifiers import NeuralNetworkClassifier, VQC\n",
    "from qiskit_machine_learning.algorithms.regressors import NeuralNetworkRegressor, VQR\n",
    "from qiskit_machine_learning.neural_networks import SamplerQNN, EstimatorQNN\n",
    "from qiskit_machine_learning.circuit.library import QNNCircuit\n",
    "\n",
    "algorithm_globals.random_seed = 42"
   ]
  },
  {
   "cell_type": "code",
   "execution_count": 3,
   "id": "a78dce7c-4a2d-47b9-be7e-61fbeb71c7b2",
   "metadata": {
    "tags": []
   },
   "outputs": [
    {
     "name": "stdout",
     "output_type": "stream",
     "text": [
      "Requirement already satisfied: qiskit_machine_learning in /opt/conda/lib/python3.10/site-packages (0.7.2)\n",
      "Requirement already satisfied: qiskit>=0.44 in /opt/conda/lib/python3.10/site-packages (from qiskit_machine_learning) (1.0.2)\n",
      "Requirement already satisfied: qiskit-algorithms>=0.2.0 in /opt/conda/lib/python3.10/site-packages (from qiskit_machine_learning) (0.3.0)\n",
      "Requirement already satisfied: scipy>=1.4 in /opt/conda/lib/python3.10/site-packages (from qiskit_machine_learning) (1.12.0)\n",
      "Requirement already satisfied: numpy>=1.17 in /opt/conda/lib/python3.10/site-packages (from qiskit_machine_learning) (1.23.5)\n",
      "Requirement already satisfied: psutil>=5 in /opt/conda/lib/python3.10/site-packages (from qiskit_machine_learning) (5.9.4)\n",
      "Requirement already satisfied: scikit-learn>=1.2.0 in /opt/conda/lib/python3.10/site-packages (from qiskit_machine_learning) (1.4.1.post1)\n",
      "Requirement already satisfied: fastdtw in /opt/conda/lib/python3.10/site-packages (from qiskit_machine_learning) (0.3.4)\n",
      "Requirement already satisfied: setuptools>=40.1.0 in /opt/conda/lib/python3.10/site-packages (from qiskit_machine_learning) (65.5.1)\n",
      "Requirement already satisfied: dill>=0.3.4 in /opt/conda/lib/python3.10/site-packages (from qiskit_machine_learning) (0.3.6)\n",
      "Requirement already satisfied: rustworkx>=0.14.0 in /opt/conda/lib/python3.10/site-packages (from qiskit>=0.44->qiskit_machine_learning) (0.14.0)\n",
      "Requirement already satisfied: sympy>=1.3 in /opt/conda/lib/python3.10/site-packages (from qiskit>=0.44->qiskit_machine_learning) (1.11.1)\n",
      "Requirement already satisfied: python-dateutil>=2.8.0 in /opt/conda/lib/python3.10/site-packages (from qiskit>=0.44->qiskit_machine_learning) (2.8.2)\n",
      "Requirement already satisfied: stevedore>=3.0.0 in /opt/conda/lib/python3.10/site-packages (from qiskit>=0.44->qiskit_machine_learning) (5.1.0)\n",
      "Requirement already satisfied: typing-extensions in /opt/conda/lib/python3.10/site-packages (from qiskit>=0.44->qiskit_machine_learning) (4.9.0)\n",
      "Requirement already satisfied: symengine>=0.11 in /opt/conda/lib/python3.10/site-packages (from qiskit>=0.44->qiskit_machine_learning) (0.11.0)\n",
      "Requirement already satisfied: joblib>=1.2.0 in /opt/conda/lib/python3.10/site-packages (from scikit-learn>=1.2.0->qiskit_machine_learning) (1.2.0)\n",
      "Requirement already satisfied: threadpoolctl>=2.0.0 in /opt/conda/lib/python3.10/site-packages (from scikit-learn>=1.2.0->qiskit_machine_learning) (3.1.0)\n",
      "Requirement already satisfied: six>=1.5 in /opt/conda/lib/python3.10/site-packages (from python-dateutil>=2.8.0->qiskit>=0.44->qiskit_machine_learning) (1.16.0)\n",
      "Requirement already satisfied: pbr!=2.1.0,>=2.0.0 in /opt/conda/lib/python3.10/site-packages (from stevedore>=3.0.0->qiskit>=0.44->qiskit_machine_learning) (6.0.0)\n",
      "Requirement already satisfied: mpmath>=0.19 in /opt/conda/lib/python3.10/site-packages (from sympy>=1.3->qiskit>=0.44->qiskit_machine_learning) (1.2.1)\n"
     ]
    }
   ],
   "source": [
    "!pip install qiskit_machine_learning"
   ]
  },
  {
   "cell_type": "code",
   "execution_count": 4,
   "id": "7a0bbb57-01f7-406c-892e-2b7bc9b5478f",
   "metadata": {
    "tags": []
   },
   "outputs": [
    {
     "name": "stderr",
     "output_type": "stream",
     "text": [
      "/opt/conda/lib/python3.10/site-packages/pandas/core/computation/expressions.py:21: UserWarning: Pandas requires version '2.8.4' or newer of 'numexpr' (version '2.8.3' currently installed).\n",
      "  from pandas.core.computation.check import NUMEXPR_INSTALLED\n",
      "/opt/conda/lib/python3.10/site-packages/pandas/core/arrays/masked.py:60: UserWarning: Pandas requires version '1.3.6' or newer of 'bottleneck' (version '1.3.5' currently installed).\n",
      "  from pandas.core import (\n"
     ]
    }
   ],
   "source": [
    "#importing for data formatting and representation\n",
    "import numpy as np\n",
    "import matplotlib.pyplot as plt\n",
    "import pandas as pd"
   ]
  },
  {
   "cell_type": "code",
   "execution_count": 5,
   "id": "619bc3f7-9c55-431a-9f42-63704c76711c",
   "metadata": {
    "tags": []
   },
   "outputs": [],
   "source": [
    "dataset = pd.read_csv('Social_Network_Ads.csv')# data set used for the entire project\n",
    "X = dataset.iloc[:, :-1].values\n",
    "y = dataset.iloc[:, -1].values"
   ]
  },
  {
   "cell_type": "markdown",
   "id": "6338ac34-9f90-4c01-8d40-321ad67715f8",
   "metadata": {},
   "source": [
    "## Trainning Data\n",
    "\n",
    "Much like in a classical system, a quantum system uses a smaller subset of data to train on and in this case we are using 25% of the original data set. This allows for the most effecient learning and optimization time possible while still trying to maintain accuarcy."
   ]
  },
  {
   "cell_type": "code",
   "execution_count": 6,
   "id": "0c7bf627-724a-4132-a2d9-5a8ffb0cedff",
   "metadata": {
    "tags": []
   },
   "outputs": [
    {
     "name": "stdout",
     "output_type": "stream",
     "text": [
      "[[    44  39000]\n",
      " [    32 120000]\n",
      " [    38  50000]\n",
      " [    32 135000]]\n",
      "[0 1 0 1]\n",
      "[[   30 87000]\n",
      " [   38 50000]\n",
      " [   35 75000]\n",
      " [   30 79000]]\n",
      "[0 0 0 0]\n"
     ]
    }
   ],
   "source": [
    "from sklearn.model_selection import train_test_split\n",
    "X_train, X_test, y_train, y_test = train_test_split(X, y, test_size = 0.25, random_state = 0)\n",
    "print(X_train[:4])\n",
    "print(y_train[:4])\n",
    "print(X_test[:4])\n",
    "print(y_test[:4])"
   ]
  },
  {
   "cell_type": "code",
   "execution_count": 7,
   "id": "6e283d2e-cbe8-4f24-b0e6-f9179293913a",
   "metadata": {
    "tags": []
   },
   "outputs": [],
   "source": [
    "from sklearn.preprocessing import StandardScaler\n",
    "sc = StandardScaler()\n",
    "X_train = sc.fit_transform(X_train)\n",
    "X_test = sc.transform(X_test)"
   ]
  },
  {
   "cell_type": "code",
   "execution_count": 8,
   "id": "3ba6cbd9-5902-4bb4-bf44-5c8a5ce99e55",
   "metadata": {
    "tags": []
   },
   "outputs": [],
   "source": [
    "from qiskit.circuit.library import ZZFeatureMap\n",
    "from qiskit.primitives import Sampler\n",
    "from qiskit_algorithms.state_fidelities import ComputeUncompute\n",
    "from qiskit_machine_learning.kernels import FidelityQuantumKernel\n",
    "\n",
    "feature_map = ZZFeatureMap(feature_dimension=2, reps=2, entanglement=\"linear\")\n",
    "\n",
    "sampler = Sampler()\n",
    "\n",
    "fidelity = ComputeUncompute(sampler=sampler)\n",
    "\n",
    "kernel = FidelityQuantumKernel(fidelity=fidelity, feature_map=feature_map)"
   ]
  },
  {
   "cell_type": "markdown",
   "id": "800c9cb0-04e4-486d-a87b-ed9640430b80",
   "metadata": {},
   "source": [
    "# Results:\n",
    "\n",
    "From here we can see that the QSVM had an accracy and classification test score of 61% which can be deemed as ineffeceint compared to most modern classcal implementations."
   ]
  },
  {
   "cell_type": "code",
   "execution_count": null,
   "id": "26fdaccd-a986-4afd-95a0-8f4d7d0a883e",
   "metadata": {
    "tags": []
   },
   "outputs": [],
   "source": [
    "from qiskit_machine_learning.algorithms import QSVC\n",
    "\n",
    "qsvc = QSVC(quantum_kernel=kernel)\n",
    "\n",
    "qsvc.fit(X_train, y_train)\n",
    "\n",
    "qsvc_score = qsvc.score(X_test, y_test)\n",
    "\n",
    "print(f\"QSVC classification test score: {qsvc_score}\")"
   ]
  },
  {
   "cell_type": "code",
   "execution_count": null,
   "id": "2ff5d5cc-d464-47cb-a6ef-f2995c98a4ec",
   "metadata": {},
   "outputs": [],
   "source": []
  }
 ],
 "metadata": {
  "kernelspec": {
   "display_name": "Qiskit v1.0.2 (ipykernel)",
   "language": "python",
   "name": "python3"
  },
  "language_info": {
   "codemirror_mode": {
    "name": "ipython",
    "version": 3
   },
   "file_extension": ".py",
   "mimetype": "text/x-python",
   "name": "python",
   "nbconvert_exporter": "python",
   "pygments_lexer": "ipython3",
   "version": "3.10.8"
  },
  "widgets": {
   "application/vnd.jupyter.widget-state+json": {
    "state": {},
    "version_major": 2,
    "version_minor": 0
   }
  }
 },
 "nbformat": 4,
 "nbformat_minor": 5
}
